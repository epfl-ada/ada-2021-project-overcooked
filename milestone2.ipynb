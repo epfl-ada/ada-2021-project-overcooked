{
 "cells": [
  {
   "cell_type": "markdown",
   "metadata": {
    "id": "TnJLrv9glvNt"
   },
   "source": [
    "## context
    In recent years, Donald Trump is no doubt one of the most controversial public figures around the world. From winning the 2016 presidential election as a dark horse to losing the election by a narrow margin in late 2020, Trump has made a non-negligible impact on the United States and the world in the four years of his presidency. People’s attitude towards him greatly divides over different groups of people and varies as time moves forward. There are loyal supporters of Trump, staunch opponents from different political parties, and people whose attitudes changed over time, and so on.

In this project, we gain more insights about people's attitudes towards Trump.
1. Do people with similar characteristics have similar attitudes toward Trump? For example, a group of middle-aged people with low education and medium income may all have a positive attitude toward Trump (just a hypothesis), while people with other common characteristics have another attitude toward Trump. 

2. Trump's 2016 election success and Covid outbreak are two important events during 2015-2020. These two events had great impacts on both the United States and the world. We speculate that people's attitude towards Trump was influenced by these two events. For example, after the successful election, people's attitude towards Trump may gradually turn positive (hypothetically). We want to explore the data and Confirm our assumptions 
3. "Trump" and "America" are closely related. When people think about Trump, they may associate it with the United States. For example, if people are not satisfied with the US at a certain time, they will also give a negative evaluation of Trump (hypothesis), and we want to study whether there exist such correlation.
 "
   ]
  },
  {
   "cell_type": "code",
   "execution_count": null,
   "metadata": {
    "colab": {
     "base_uri": "https://localhost:8080/"
    },
    "id": "kI894nB3Gkfw",
    "outputId": "bf3b36f7-e692-4c73-cb0d-2652b40587bd"
   },
   "outputs": [
    {
     "name": "stdout",
     "output_type": "stream",
     "text": [
      "Drive already mounted at /content/drive; to attempt to forcibly remount, call drive.mount(\"/content/drive\", force_remount=True).\n"
     ]
    }
   ],
   "source": [
    "from google.colab import drive\n",
    "drive.mount('/content/drive')"
   ]
  },
  {
   "cell_type": "code",
   "execution_count": null,
   "metadata": {
    "colab": {
     "base_uri": "https://localhost:8080/"
    },
    "collapsed": true,
    "id": "mVA_Wvo7jZGs",
    "outputId": "d0ee3781-86e9-4c56-9111-cc43018f69cf"
   },
   "outputs": [
    {
     "name": "stdout",
     "output_type": "stream",
     "text": [
      "Requirement already satisfied: pip in /usr/local/lib/python3.7/dist-packages (21.3.1)\n",
      "Requirement already satisfied: dask[complete] in /usr/local/lib/python3.7/dist-packages (2021.11.1)\n",
      "Requirement already satisfied: fsspec>=0.6.0 in /usr/local/lib/python3.7/dist-packages (from dask[complete]) (2021.11.0)\n",
      "Requirement already satisfied: toolz>=0.8.2 in /usr/local/lib/python3.7/dist-packages (from dask[complete]) (0.11.2)\n",
      "Requirement already satisfied: partd>=0.3.10 in /usr/local/lib/python3.7/dist-packages (from dask[complete]) (1.2.0)\n",
      "Requirement already satisfied: packaging>=20.0 in /usr/local/lib/python3.7/dist-packages (from dask[complete]) (21.2)\n",
      "Requirement already satisfied: pyyaml in /usr/local/lib/python3.7/dist-packages (from dask[complete]) (3.13)\n",
      "Requirement already satisfied: cloudpickle>=1.1.1 in /usr/local/lib/python3.7/dist-packages (from dask[complete]) (2.0.0)\n",
      "Requirement already satisfied: numpy>=1.18 in /usr/local/lib/python3.7/dist-packages (from dask[complete]) (1.19.5)\n",
      "Requirement already satisfied: jinja2 in /usr/local/lib/python3.7/dist-packages (from dask[complete]) (2.11.3)\n",
      "Requirement already satisfied: bokeh!=2.0.0,>=1.0.0 in /usr/local/lib/python3.7/dist-packages (from dask[complete]) (2.3.3)\n",
      "Requirement already satisfied: distributed==2021.11.1 in /usr/local/lib/python3.7/dist-packages (from dask[complete]) (2021.11.1)\n",
      "Requirement already satisfied: pandas>=1.0 in /usr/local/lib/python3.7/dist-packages (from dask[complete]) (1.1.5)\n",
      "Requirement already satisfied: click>=6.6 in /usr/local/lib/python3.7/dist-packages (from distributed==2021.11.1->dask[complete]) (7.1.2)\n",
      "Requirement already satisfied: tornado>=5 in /usr/local/lib/python3.7/dist-packages (from distributed==2021.11.1->dask[complete]) (5.1.1)\n",
      "Requirement already satisfied: zict>=0.1.3 in /usr/local/lib/python3.7/dist-packages (from distributed==2021.11.1->dask[complete]) (2.0.0)\n",
      "Requirement already satisfied: setuptools in /usr/local/lib/python3.7/dist-packages (from distributed==2021.11.1->dask[complete]) (57.4.0)\n",
      "Requirement already satisfied: psutil>=5.0 in /usr/local/lib/python3.7/dist-packages (from distributed==2021.11.1->dask[complete]) (5.4.8)\n",
      "Requirement already satisfied: msgpack>=0.6.0 in /usr/local/lib/python3.7/dist-packages (from distributed==2021.11.1->dask[complete]) (1.0.2)\n",
      "Requirement already satisfied: tblib>=1.6.0 in /usr/local/lib/python3.7/dist-packages (from distributed==2021.11.1->dask[complete]) (1.7.0)\n",
      "Requirement already satisfied: sortedcontainers!=2.0.0,!=2.0.1 in /usr/local/lib/python3.7/dist-packages (from distributed==2021.11.1->dask[complete]) (2.4.0)\n",
      "Requirement already satisfied: typing-extensions>=3.7.4 in /usr/local/lib/python3.7/dist-packages (from bokeh!=2.0.0,>=1.0.0->dask[complete]) (3.10.0.2)\n",
      "Requirement already satisfied: pillow>=7.1.0 in /usr/local/lib/python3.7/dist-packages (from bokeh!=2.0.0,>=1.0.0->dask[complete]) (7.1.2)\n",
      "Requirement already satisfied: python-dateutil>=2.1 in /usr/local/lib/python3.7/dist-packages (from bokeh!=2.0.0,>=1.0.0->dask[complete]) (2.8.2)\n",
      "Requirement already satisfied: MarkupSafe>=0.23 in /usr/local/lib/python3.7/dist-packages (from jinja2->dask[complete]) (2.0.1)\n",
      "Requirement already satisfied: pyparsing<3,>=2.0.2 in /usr/local/lib/python3.7/dist-packages (from packaging>=20.0->dask[complete]) (2.4.7)\n",
      "Requirement already satisfied: pytz>=2017.2 in /usr/local/lib/python3.7/dist-packages (from pandas>=1.0->dask[complete]) (2018.9)\n",
      "Requirement already satisfied: locket in /usr/local/lib/python3.7/dist-packages (from partd>=0.3.10->dask[complete]) (0.2.1)\n",
      "Requirement already satisfied: six>=1.5 in /usr/local/lib/python3.7/dist-packages (from python-dateutil>=2.1->bokeh!=2.0.0,>=1.0.0->dask[complete]) (1.15.0)\n",
      "Requirement already satisfied: heapdict in /usr/local/lib/python3.7/dist-packages (from zict>=0.1.3->distributed==2021.11.1->dask[complete]) (1.0.1)\n",
      "\u001b[33mWARNING: Running pip as the 'root' user can result in broken permissions and conflicting behaviour with the system package manager. It is recommended to use a virtual environment instead: https://pip.pypa.io/warnings/venv\u001b[0m\n"
     ]
    }
   ],
   "source": [
    "!pip install -U pip  \"dask[complete]\""
   ]
  },
  {
   "cell_type": "code",
   "execution_count": null,
   "metadata": {
    "id": "pAqHIgsJChLK"
   },
   "outputs": [],
   "source": [
    "from pathlib import Path"
   ]
  },
  {
   "cell_type": "code",
   "execution_count": null,
   "metadata": {
    "id": "-S4EKquECGu6"
   },
   "outputs": [],
   "source": [
    "DATA_PATH = Path(\"/content/drive/MyDrive/Fall 21/ADA overcooked/data\")"
   ]
  },
  {
   "cell_type": "markdown",
   "metadata": {
    "id": "TnJLrv9glvNt"
   },
   "source": [
    "# 1 Data Preprocessing "
   ]
  },
  {
   "cell_type": "code",
   "execution_count": null,
   "metadata": {
    "id": "OkDBU2s9RrTk"
   },
   "outputs": [],
   "source": [
    "import dask.dataframe as dask_df\n",
    "import pandas as pd\n",
    "from dask.diagnostics import ProgressBar"
   ]
  },
  {
   "cell_type": "markdown",
   "metadata": {
    "id": "w9W64uygseF1"
   },
   "source": [
    "## 1.1 Data preprocessing for Quotebank data"
   ]
  },
  {
   "cell_type": "code",
   "execution_count": null,
   "metadata": {
    "colab": {
     "base_uri": "https://localhost:8080/"
    },
    "collapsed": true,
    "id": "bOxbknzpDviC",
    "outputId": "f4d4d72c-4bf2-4e87-dc1d-4478431921ca"
   },
   "outputs": [
    {
     "name": "stdout",
     "output_type": "stream",
     "text": [
      "Collecting text2emotion\n",
      "  Downloading text2emotion-0.0.5-py3-none-any.whl (57 kB)\n",
      "\u001b[?25l\r",
      "\r",
      "     |█████▊                          | 10 kB 29.3 MB/s eta 0:00:01\r",
      "     |███████████▍                    | 20 kB 35.5 MB/s eta 0:00:01\r",
      "     |█████████████████               | 30 kB 41.4 MB/s eta 0:00:01\r",
      "     |██████████████████████▊         | 40 kB 43.1 MB/s eta 0:00:01\r",
      "     |████████████████████████████▍   | 51 kB 15.3 MB/s eta 0:00:01\r",
      "     |████████████████████████████████| 57 kB 3.7 MB/s             \n",
      "\u001b[?25hCollecting emoji>=0.6.0\n",
      "  Downloading emoji-1.6.1.tar.gz (170 kB)\n",
      "\u001b[?25l\r",
      "\r",
      "     |██                              | 10 kB 37.0 MB/s eta 0:00:01\r",
      "     |███▉                            | 20 kB 38.7 MB/s eta 0:00:01\r",
      "     |█████▉                          | 30 kB 47.1 MB/s eta 0:00:01\r",
      "     |███████▊                        | 40 kB 52.7 MB/s eta 0:00:01\r",
      "     |█████████▋                      | 51 kB 58.2 MB/s eta 0:00:01\r",
      "     |███████████▋                    | 61 kB 61.5 MB/s eta 0:00:01\r",
      "     |█████████████▌                  | 71 kB 63.1 MB/s eta 0:00:01\r",
      "     |███████████████▍                | 81 kB 22.5 MB/s eta 0:00:01\r",
      "     |█████████████████▍              | 92 kB 23.6 MB/s eta 0:00:01\r",
      "     |███████████████████▎            | 102 kB 25.1 MB/s eta 0:00:01\r",
      "     |█████████████████████▏          | 112 kB 25.1 MB/s eta 0:00:01\r",
      "     |███████████████████████▏        | 122 kB 25.1 MB/s eta 0:00:01\r",
      "     |█████████████████████████       | 133 kB 25.1 MB/s eta 0:00:01\r",
      "     |███████████████████████████     | 143 kB 25.1 MB/s eta 0:00:01\r",
      "     |█████████████████████████████   | 153 kB 25.1 MB/s eta 0:00:01\r",
      "     |██████████████████████████████▉ | 163 kB 25.1 MB/s eta 0:00:01\r",
      "     |████████████████████████████████| 170 kB 25.1 MB/s            \n",
      "\u001b[?25h  Preparing metadata (setup.py) ... \u001b[?25l\u001b[?25hdone\n",
      "Requirement already satisfied: nltk in /usr/local/lib/python3.7/dist-packages (from text2emotion) (3.2.5)\n",
      "Requirement already satisfied: six in /usr/local/lib/python3.7/dist-packages (from nltk->text2emotion) (1.15.0)\n",
      "Building wheels for collected packages: emoji\n",
      "  Building wheel for emoji (setup.py) ... \u001b[?25l\u001b[?25hdone\n",
      "  Created wheel for emoji: filename=emoji-1.6.1-py3-none-any.whl size=169314 sha256=1d72e71959bf9cf9f25ef3fd0c6176d7c2df1cc7c97cd69375dfb6b6cf549b26\n",
      "  Stored in directory: /root/.cache/pip/wheels/ea/5f/d3/03d313ddb3c2a1a427bb4690f1621eea60fe6f2a30cc95940f\n",
      "Successfully built emoji\n",
      "Installing collected packages: emoji, text2emotion\n",
      "Successfully installed emoji-1.6.1 text2emotion-0.0.5\n",
      "\u001b[33mWARNING: Running pip as the 'root' user can result in broken permissions and conflicting behaviour with the system package manager. It is recommended to use a virtual environment instead: https://pip.pypa.io/warnings/venv\u001b[0m\n"
     ]
    }
   ],
   "source": [
    "!pip install text2emotion"
   ]
  },
  {
   "cell_type": "code",
   "execution_count": null,
   "metadata": {
    "colab": {
     "base_uri": "https://localhost:8080/"
    },
    "collapsed": true,
    "id": "tYLnENZaDOo9",
    "outputId": "4f3d1318-79d9-4ee7-fc86-9cb4dd1f675c"
   },
   "outputs": [
    {
     "name": "stdout",
     "output_type": "stream",
     "text": [
      "[nltk_data] Downloading package stopwords to /root/nltk_data...\n",
      "[nltk_data]   Package stopwords is already up-to-date!\n",
      "[nltk_data] Downloading package punkt to /root/nltk_data...\n",
      "[nltk_data]   Package punkt is already up-to-date!\n",
      "[nltk_data] Downloading package wordnet to /root/nltk_data...\n",
      "[nltk_data]   Package wordnet is already up-to-date!\n"
     ]
    }
   ],
   "source": [
    "# import needed packages\n",
    "import bz2\n",
    "import json\n",
    "import text2emotion as te\n",
    "import re\n",
    "import os"
   ]
  },
  {
   "cell_type": "markdown",
   "metadata": {
    "id": "ebYXdf4HJoFa"
   },
   "source": [
    "### 1.1.1 Clean Data and Get Emotions for Trump Data"
   ]
  },
  {
   "cell_type": "code",
   "execution_count": null,
   "metadata": {
    "id": "_MIS8NUvKvMK"
   },
   "outputs": [],
   "source": [
    "'''Get cleaned and \"labeled\" quotation for Trump data'''\n",
    "'''data cleaning: filter data based on the following conditions: '''\n",
    "'''(1) the speaker is not \"None\"'''\n",
    "'''(2) the quotation contains \"Trump\" or \"Donald\"'''\n",
    "'''(3) the phase is E so that the data are coded based on the same rule'''\n",
    "'''Add emotion to each quotation by applying text2emotion package'''\n",
    "'''The emotion output contains 5 emotions: Happy, Angry, Surprise, Sad, Fear, and the probability of each emotion for the quotation'''\n",
    "'''The emotion output example: {'Happy': 0.0, 'Angry': 0.0, 'Surprise': 0.5, 'Sad': 0.0, 'Fear': 0.5} '''\n",
    "\n",
    "# here is the example code for filtering data, the cleaned data can be found \n",
    "path_to_file = DATA_PATH / 'Quotebank' / 'quotes-2020.json.bz2' \n",
    "path_to_out = DATA_PATH/ 'quotes-2020-cleaned_Trump.json.bz2'\n",
    "\n",
    "with bz2.open(path_to_file, 'rb') as s_file:  # read data\n",
    "    with bz2.open(path_to_out, 'wb') as d_file:   # open write file\n",
    "        for instance in s_file:\n",
    "            instance = json.loads(instance) # loading a sample\n",
    "            if (instance['speaker'] != 'None') and (instance['phase'] == 'E') and ((\"Trump\" in instance['quotation']) or (\"Donald\") in instance['quotation']): # filter data\n",
    "                quote = instance['quotation']\n",
    "                emotion = te.get_emotion(quote)\n",
    "                instance['emotion'] = emotion\n",
    "                d_file.write((json.dumps(instance)+'\\n').encode('utf-8')) # writing in the new file"
   ]
  },
  {
   "cell_type": "markdown",
   "metadata": {
    "id": "6RN864WrEGEU"
   },
   "source": [
    "- Emotion for Trump overview 2020"
   ]
  },
  {
   "cell_type": "code",
   "execution_count": null,
   "metadata": {
    "id": "24N0JCnoEFH5"
   },
   "outputs": [],
   "source": [
    "# load data\n",
    "file = DATA_PATH / 'quotes-2020-cleaned_Trump.json.bz2'\n",
    "chunks = pd.read_json(file, lines=True, chunksize = 100)\n",
    "df = pd.DataFrame()\n",
    "for c in chunks:\n",
    "    df = df.append(c)"
   ]
  },
  {
   "cell_type": "code",
   "execution_count": null,
   "metadata": {
    "colab": {
     "base_uri": "https://localhost:8080/",
     "height": 390
    },
    "id": "03Rhi0zYFVB-",
    "outputId": "aeb8b8ee-2d1b-492f-e32d-a0635b60d252"
   },
   "outputs": [
    {
     "data": {
      "text/html": [
       "<div>\n",
       "<style scoped>\n",
       "    .dataframe tbody tr th:only-of-type {\n",
       "        vertical-align: middle;\n",
       "    }\n",
       "\n",
       "    .dataframe tbody tr th {\n",
       "        vertical-align: top;\n",
       "    }\n",
       "\n",
       "    .dataframe thead th {\n",
       "        text-align: right;\n",
       "    }\n",
       "</style>\n",
       "<table border=\"1\" class=\"dataframe\">\n",
       "  <thead>\n",
       "    <tr style=\"text-align: right;\">\n",
       "      <th></th>\n",
       "      <th>numOccurrences</th>\n",
       "      <th>Happy</th>\n",
       "      <th>Angry</th>\n",
       "      <th>Surprise</th>\n",
       "      <th>Sad</th>\n",
       "      <th>Fear</th>\n",
       "      <th>count</th>\n",
       "    </tr>\n",
       "    <tr>\n",
       "      <th>speaker</th>\n",
       "      <th></th>\n",
       "      <th></th>\n",
       "      <th></th>\n",
       "      <th></th>\n",
       "      <th></th>\n",
       "      <th></th>\n",
       "      <th></th>\n",
       "    </tr>\n",
       "  </thead>\n",
       "  <tbody>\n",
       "    <tr>\n",
       "      <th>Bernie Sanders</th>\n",
       "      <td>7.448805</td>\n",
       "      <td>0.057500</td>\n",
       "      <td>0.025683</td>\n",
       "      <td>0.479582</td>\n",
       "      <td>0.157304</td>\n",
       "      <td>0.279241</td>\n",
       "      <td>1172</td>\n",
       "    </tr>\n",
       "    <tr>\n",
       "      <th>Joe Biden</th>\n",
       "      <td>6.968649</td>\n",
       "      <td>0.048173</td>\n",
       "      <td>0.031189</td>\n",
       "      <td>0.479016</td>\n",
       "      <td>0.176108</td>\n",
       "      <td>0.262195</td>\n",
       "      <td>925</td>\n",
       "    </tr>\n",
       "    <tr>\n",
       "      <th>President Donald Trump</th>\n",
       "      <td>4.347107</td>\n",
       "      <td>0.066832</td>\n",
       "      <td>0.037025</td>\n",
       "      <td>0.444725</td>\n",
       "      <td>0.153636</td>\n",
       "      <td>0.295289</td>\n",
       "      <td>726</td>\n",
       "    </tr>\n",
       "    <tr>\n",
       "      <th>Elizabeth Warren</th>\n",
       "      <td>6.046358</td>\n",
       "      <td>0.037864</td>\n",
       "      <td>0.029487</td>\n",
       "      <td>0.464238</td>\n",
       "      <td>0.144487</td>\n",
       "      <td>0.319818</td>\n",
       "      <td>604</td>\n",
       "    </tr>\n",
       "    <tr>\n",
       "      <th>President Trump</th>\n",
       "      <td>2.190574</td>\n",
       "      <td>0.068012</td>\n",
       "      <td>0.032766</td>\n",
       "      <td>0.447623</td>\n",
       "      <td>0.152848</td>\n",
       "      <td>0.294016</td>\n",
       "      <td>488</td>\n",
       "    </tr>\n",
       "    <tr>\n",
       "      <th>Pete Buttigieg</th>\n",
       "      <td>6.100796</td>\n",
       "      <td>0.080663</td>\n",
       "      <td>0.019973</td>\n",
       "      <td>0.453210</td>\n",
       "      <td>0.160000</td>\n",
       "      <td>0.285093</td>\n",
       "      <td>377</td>\n",
       "    </tr>\n",
       "    <tr>\n",
       "      <th>Donald Trump</th>\n",
       "      <td>3.338936</td>\n",
       "      <td>0.068207</td>\n",
       "      <td>0.028571</td>\n",
       "      <td>0.463361</td>\n",
       "      <td>0.164482</td>\n",
       "      <td>0.263193</td>\n",
       "      <td>357</td>\n",
       "    </tr>\n",
       "    <tr>\n",
       "      <th>Adam Schiff</th>\n",
       "      <td>11.189112</td>\n",
       "      <td>0.080888</td>\n",
       "      <td>0.045845</td>\n",
       "      <td>0.401117</td>\n",
       "      <td>0.111461</td>\n",
       "      <td>0.359542</td>\n",
       "      <td>349</td>\n",
       "    </tr>\n",
       "    <tr>\n",
       "      <th>Michael Bloomberg</th>\n",
       "      <td>4.470032</td>\n",
       "      <td>0.052808</td>\n",
       "      <td>0.027792</td>\n",
       "      <td>0.482461</td>\n",
       "      <td>0.175016</td>\n",
       "      <td>0.252145</td>\n",
       "      <td>317</td>\n",
       "    </tr>\n",
       "    <tr>\n",
       "      <th>Chuck Schumer</th>\n",
       "      <td>7.857639</td>\n",
       "      <td>0.041424</td>\n",
       "      <td>0.037431</td>\n",
       "      <td>0.448229</td>\n",
       "      <td>0.157986</td>\n",
       "      <td>0.313472</td>\n",
       "      <td>288</td>\n",
       "    </tr>\n",
       "  </tbody>\n",
       "</table>\n",
       "</div>"
      ],
      "text/plain": [
       "                        numOccurrences     Happy  ...      Fear  count\n",
       "speaker                                           ...                 \n",
       "Bernie Sanders                7.448805  0.057500  ...  0.279241   1172\n",
       "Joe Biden                     6.968649  0.048173  ...  0.262195    925\n",
       "President Donald Trump        4.347107  0.066832  ...  0.295289    726\n",
       "Elizabeth Warren              6.046358  0.037864  ...  0.319818    604\n",
       "President Trump               2.190574  0.068012  ...  0.294016    488\n",
       "Pete Buttigieg                6.100796  0.080663  ...  0.285093    377\n",
       "Donald Trump                  3.338936  0.068207  ...  0.263193    357\n",
       "Adam Schiff                  11.189112  0.080888  ...  0.359542    349\n",
       "Michael Bloomberg             4.470032  0.052808  ...  0.252145    317\n",
       "Chuck Schumer                 7.857639  0.041424  ...  0.313472    288\n",
       "\n",
       "[10 rows x 7 columns]"
      ]
     },
     "execution_count": 15,
     "metadata": {},
     "output_type": "execute_result"
    }
   ],
   "source": [
    "# summarize emotion prob for each person\n",
    "df = df.join(df['emotion'].apply(pd.Series))\n",
    "df_speaker_emotion = df.groupby(['speaker']).mean()\n",
    "df_speaker_emotion['count'] = df.groupby(['speaker']).count().iloc[:, 0]\n",
    "df_speaker_emotion.sort_values(by='count', ascending=False).head(10)\n"
   ]
  },
  {
   "cell_type": "code",
   "execution_count": null,
   "metadata": {
    "id": "1wycTkhdFiSO"
   },
   "outputs": [],
   "source": [
    "def multi_hist(data, title, **kwargs):\n",
    "    px = 1 / plt.rcParams[\"figure.dpi\"]\n",
    "\n",
    "    facet = sns.displot(\n",
    "        data,\n",
    "        kind=\"hist\",\n",
    "        palette=\"colorblind\",\n",
    "        element=\"poly\",\n",
    "        facet_kws={\"legend_out\": True},\n",
    "        height=600 * px,\n",
    "        linewidth=0.3,\n",
    "        **kwargs,\n",
    "    )\n",
    "    facet.set_xlabels('prob').fig.suptitle(title)\n",
    "    return facet\n"
   ]
  },
  {
   "cell_type": "code",
   "execution_count": null,
   "metadata": {
    "colab": {
     "base_uri": "https://localhost:8080/",
     "height": 710
    },
    "id": "7IElzoAeFpah",
    "outputId": "9d88ca5d-3dbb-4021-ee97-4c72d424859b"
   },
   "outputs": [
    {
     "data": {
      "text/plain": [
       "<seaborn.axisgrid.FacetGrid at 0x7f7fb43056d0>"
      ]
     },
     "execution_count": 18,
     "metadata": {},
     "output_type": "execute_result"
    },
    {
     "data": {
      "image/png": "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\n",
      "text/plain": [
       "<Figure size 1800x1200 with 5 Axes>"
      ]
     },
     "metadata": {
      "needs_background": "light"
     },
     "output_type": "display_data"
    }
   ],
   "source": [
    "# plot prob distribution for each emotion\n",
    "import seaborn as sns\n",
    "import matplotlib.pyplot as plt\n",
    "multi_hist(\n",
    "    df_speaker_emotion[['Happy', 'Angry', 'Surprise', 'Sad', 'Fear']].melt(),\n",
    "    \"Attitudes Distribution\",\n",
    "    log_scale=(False, True),\n",
    "    col=\"variable\",\n",
    "    x=\"value\",\n",
    "    col_wrap=3,\n",
    ")"
   ]
  },
  {
   "cell_type": "markdown",
   "metadata": {
    "id": "h_qwB0VjwOts"
   },
   "source": [
    "### 1.1.2 Clean Data and Get Emotions for USA Data"
   ]
  },
  {
   "cell_type": "code",
   "execution_count": null,
   "metadata": {
    "id": "NJE5WiTLvsTA"
   },
   "outputs": [],
   "source": [
    "'''Get cleaned and \"labeled\" quotation for USA data'''\n",
    "'''data cleaning: filter data based on the following conditions: '''\n",
    "'''(1) the speaker is not \"None\"'''\n",
    "'''(2) the quotation contains \"America\" or \"American\" or \"US\" or \"USA\" or \"United States\" or \"States\" '''\n",
    "'''(3) the phase is E so that the data are coded based on the same rule'''\n",
    "'''Add emotion to each quotation by applying text2emotion package'''\n",
    "'''The emotion output contains 5 emotions: Happy, Angry, Surprise, Sad, Fear, and the probability of each emotion for the quotation'''\n",
    "'''The emotion output example: {'Happy': 0.0, 'Angry': 0.0, 'Surprise': 0.5, 'Sad': 0.0, 'Fear': 0.5} '''\n",
    "\n",
    "# here is the example code for filtering data, the cleaned data can be found \n",
    "path_to_file = DATA_PATH / 'Quotebank' / 'quotes-2020.json.bz2' \n",
    "path_to_out = DATA_PATH/ 'quotes-2020-cleaned_USA.json.bz2'\n",
    "\n",
    "USAs = ['America', 'American', 'US', 'USA', \"United States\", \"States\"]\n",
    "us_regexp = \"|\".join(\"({})\".format(p) for p in USAs)\n",
    "us_matcher = re.compile(us_regexp)\n",
    "\n",
    "with bz2.open(path_to_file, 'rb') as s_file:  # read data\n",
    "    with bz2.open(path_to_out, 'wb') as d_file:   # open write file\n",
    "        for instance in s_file:\n",
    "            instance = json.loads(instance) # loading a sample\n",
    "            if (instance['speaker'] != 'None') and (instance['phase'] == 'E') and (us_matcher.search(instance['quotation']) is not None): # filter data\n",
    "                quote = instance['quotation']\n",
    "                emotion = te.get_emotion(quote)\n",
    "                instance['emotion'] = emotion\n",
    "                d_file.write((json.dumps(instance)+'\\n').encode('utf-8')) # writing in the new file"
   ]
  },
  {
   "cell_type": "markdown",
   "metadata": {
    "id": "3WL05BcAXjNa"
   },
   "source": [
    "### 1.1.3 Get the List of Speakers' qids in Trump's Dataset"
   ]
  },
  {
   "cell_type": "code",
   "execution_count": null,
   "metadata": {
    "colab": {
     "base_uri": "https://localhost:8080/"
    },
    "id": "gtDXuErHSm7G",
    "outputId": "cb2409be-3b3f-4a71-99bd-c6fb3083bdb9"
   },
   "outputs": [
    {
     "data": {
      "text/plain": [
       "12918"
      ]
     },
     "execution_count": 21,
     "metadata": {},
     "output_type": "execute_result"
    }
   ],
   "source": [
    "'''Get a list of speakers' qids for further clustering'''\n",
    "'''For a person who has multiple qids, we just load all qids to the list'''\n",
    "'''We will do the same thing for the USA datasets'''\n",
    "# get the list of speakers' qids in 2020\n",
    "path_to_file = DATA_PATH / 'quotes-2020-cleaned.json.bz2' \n",
    "\n",
    "speaker_list_2020 = set()\n",
    "with bz2.open(path_to_file, 'rb') as s_file:\n",
    "    for instance in s_file:\n",
    "        instance = json.loads(instance) # loading a sample\n",
    "        qids = instance['qids'] # extracting list of links\n",
    "        speaker_list_2020.update(qids)\n",
    "\n",
    "\n",
    "len(speaker_list_2020)"
   ]
  },
  {
   "cell_type": "code",
   "execution_count": null,
   "metadata": {
    "colab": {
     "base_uri": "https://localhost:8080/"
    },
    "id": "i2LEQdGMSoSB",
    "outputId": "c93885b3-92e5-452c-ddfd-5e8415f46e29"
   },
   "outputs": [
    {
     "data": {
      "text/plain": [
       "31934"
      ]
     },
     "execution_count": 22,
     "metadata": {},
     "output_type": "execute_result"
    }
   ],
   "source": [
    "# get the list of speak qids in 2019\n",
    "path_to_file = DATA_PATH / 'quotes-2019-cleaned.json.bz2' \n",
    "\n",
    "speaker_list_2019 = set()\n",
    "with bz2.open(path_to_file, 'rb') as s_file:\n",
    "    for instance in s_file:\n",
    "        instance = json.loads(instance) # loading a sample\n",
    "        qids = instance['qids'] # extracting list of links\n",
    "        speaker_list_2019.update(qids)\n",
    "\n",
    "\n",
    "len(speaker_list_2019)"
   ]
  },
  {
   "cell_type": "code",
   "execution_count": null,
   "metadata": {
    "colab": {
     "base_uri": "https://localhost:8080/"
    },
    "id": "RlWk_4cQS-UC",
    "outputId": "8c614ff3-6a15-4714-d3c8-7afd61d2c1f4"
   },
   "outputs": [
    {
     "data": {
      "text/plain": [
       "42580"
      ]
     },
     "execution_count": 23,
     "metadata": {},
     "output_type": "execute_result"
    }
   ],
   "source": [
    "# get the list of speak qids in 2018\n",
    "path_to_file = DATA_PATH / 'quotes-2018-cleaned.json.bz2' \n",
    "\n",
    "speaker_list_2018 = set()\n",
    "with bz2.open(path_to_file, 'rb') as s_file:\n",
    "    for instance in s_file:\n",
    "        instance = json.loads(instance) # loading a sample\n",
    "        qids = instance['qids'] # extracting list of links\n",
    "        speaker_list_2018.update(qids)\n",
    "\n",
    "\n",
    "len(speaker_list_2018)"
   ]
  },
  {
   "cell_type": "code",
   "execution_count": null,
   "metadata": {
    "colab": {
     "base_uri": "https://localhost:8080/"
    },
    "id": "EsF4TYGCTFUt",
    "outputId": "d010e685-0e9e-4bbb-9320-23564c494ea4"
   },
   "outputs": [
    {
     "data": {
      "text/plain": [
       "46228"
      ]
     },
     "execution_count": 24,
     "metadata": {},
     "output_type": "execute_result"
    }
   ],
   "source": [
    "# get the list of speak qids in 2017\n",
    "path_to_file = DATA_PATH / 'quotes-2017-cleaned.json.bz2' \n",
    "\n",
    "speaker_list_2017 = set()\n",
    "with bz2.open(path_to_file, 'rb') as s_file:\n",
    "    for instance in s_file:\n",
    "        instance = json.loads(instance) # loading a sample\n",
    "        qids = instance['qids'] # extracting list of links\n",
    "        speaker_list_2017.update(qids)\n",
    "\n",
    "\n",
    "len(speaker_list_2017)"
   ]
  },
  {
   "cell_type": "code",
   "execution_count": null,
   "metadata": {
    "colab": {
     "base_uri": "https://localhost:8080/"
    },
    "id": "qbT8PFXZTJ35",
    "outputId": "9e391a15-4c9e-476b-b353-bedb2ee2c9fb"
   },
   "outputs": [
    {
     "data": {
      "text/plain": [
       "30824"
      ]
     },
     "execution_count": 25,
     "metadata": {},
     "output_type": "execute_result"
    }
   ],
   "source": [
    "# get the list of speak qids in 2016\n",
    "path_to_file = DATA_PATH / 'quotes-2016-cleaned.json.bz2' \n",
    "\n",
    "speaker_list_2016 = set()\n",
    "with bz2.open(path_to_file, 'rb') as s_file:\n",
    "    for instance in s_file:\n",
    "        instance = json.loads(instance) # loading a sample\n",
    "        qids = instance['qids'] # extracting list of links\n",
    "        speaker_list_2016.update(qids)\n",
    "\n",
    "\n",
    "len(speaker_list_2016)"
   ]
  },
  {
   "cell_type": "code",
   "execution_count": null,
   "metadata": {
    "colab": {
     "base_uri": "https://localhost:8080/"
    },
    "id": "qxgJH2vgTOB8",
    "outputId": "4b2de678-1858-4244-94b3-9c93e6fb786f"
   },
   "outputs": [
    {
     "data": {
      "text/plain": [
       "14659"
      ]
     },
     "execution_count": 26,
     "metadata": {},
     "output_type": "execute_result"
    }
   ],
   "source": [
    "# get the list of speak qids in 2015\n",
    "path_to_file = DATA_PATH / 'quotes-2015-cleaned.json.bz2' \n",
    "\n",
    "speaker_list_2015 = set()\n",
    "with bz2.open(path_to_file, 'rb') as s_file:\n",
    "    for instance in s_file:\n",
    "        instance = json.loads(instance) # loading a sample\n",
    "        qids = instance['qids'] # extracting list of links\n",
    "        speaker_list_2015.update(qids)\n",
    "\n",
    "\n",
    "len(speaker_list_2015)"
   ]
  },
  {
   "cell_type": "code",
   "execution_count": null,
   "metadata": {
    "id": "Tg353oMuYHWk"
   },
   "outputs": [],
   "source": [
    "SPEAKER_QIDS = DATA_PATH / 'speaker_qids.json.bz2'"
   ]
  },
  {
   "cell_type": "code",
   "execution_count": null,
   "metadata": {
    "id": "F623HRIgUdGp"
   },
   "outputs": [],
   "source": [
    "# get the whole list of speaker qids in Trump's dataset\n",
    "\n",
    "# merge all qids and save as a dict\n",
    "speaker_qids = dict.fromkeys(set.union(speaker_list_2015, speaker_list_2016, speaker_list_2017, speaker_list_2018, speaker_list_2019, speaker_list_2020), 0)\n",
    "\n",
    "\n",
    "with bz2.open(path_to_out, 'wb') as d_file:\n",
    "    d_file.write((json.dumps(speaker_qids)).encode('utf-8'))\n"
   ]
  },
  {
   "cell_type": "markdown",
   "metadata": {
    "id": "UkMLCbVvs39d"
   },
   "source": [
    "## 1.2 Data Preprocessing for Wikidata"
   ]
  },
  {
   "cell_type": "code",
   "execution_count": null,
   "metadata": {
    "colab": {
     "base_uri": "https://localhost:8080/",
     "height": 864
    },
    "collapsed": true,
    "id": "Q3ygPAHtAgnF",
    "outputId": "4cd3cca1-a6c4-4e92-e873-c8c089d94756"
   },
   "outputs": [
    {
     "name": "stdout",
     "output_type": "stream",
     "text": [
      "Requirement already satisfied: pip in /usr/local/lib/python3.7/dist-packages (21.3.1)\n",
      "Requirement already satisfied: pyarrow in /usr/local/lib/python3.7/dist-packages (3.0.0)\n",
      "Collecting pyarrow\n",
      "  Downloading pyarrow-6.0.0-cp37-cp37m-manylinux_2_17_x86_64.manylinux2014_x86_64.whl (25.5 MB)\n",
      "     |████████████████████████████████| 25.5 MB 115 kB/s             \n",
      "\u001b[?25hRequirement already satisfied: scikit-learn in /usr/local/lib/python3.7/dist-packages (0.22.2.post1)\n",
      "Collecting scikit-learn\n",
      "  Downloading scikit_learn-1.0.1-cp37-cp37m-manylinux_2_12_x86_64.manylinux2010_x86_64.whl (23.2 MB)\n",
      "     |████████████████████████████████| 23.2 MB 110 kB/s             \n",
      "\u001b[?25hRequirement already satisfied: joblib in /usr/local/lib/python3.7/dist-packages (1.1.0)\n",
      "Requirement already satisfied: requests in /usr/local/lib/python3.7/dist-packages (2.23.0)\n",
      "Collecting requests\n",
      "  Downloading requests-2.26.0-py2.py3-none-any.whl (62 kB)\n",
      "     |████████████████████████████████| 62 kB 715 kB/s             \n",
      "\u001b[?25hRequirement already satisfied: numpy>=1.16.6 in /usr/local/lib/python3.7/dist-packages (from pyarrow) (1.19.5)\n",
      "Collecting threadpoolctl>=2.0.0\n",
      "  Downloading threadpoolctl-3.0.0-py3-none-any.whl (14 kB)\n",
      "Requirement already satisfied: scipy>=1.1.0 in /usr/local/lib/python3.7/dist-packages (from scikit-learn) (1.4.1)\n",
      "Requirement already satisfied: charset-normalizer~=2.0.0 in /usr/local/lib/python3.7/dist-packages (from requests) (2.0.7)\n",
      "Requirement already satisfied: certifi>=2017.4.17 in /usr/local/lib/python3.7/dist-packages (from requests) (2021.10.8)\n",
      "Requirement already satisfied: idna<4,>=2.5 in /usr/local/lib/python3.7/dist-packages (from requests) (2.10)\n",
      "Requirement already satisfied: urllib3<1.27,>=1.21.1 in /usr/local/lib/python3.7/dist-packages (from requests) (1.24.3)\n",
      "Installing collected packages: threadpoolctl, scikit-learn, requests, pyarrow\n",
      "  Attempting uninstall: scikit-learn\n",
      "    Found existing installation: scikit-learn 0.22.2.post1\n",
      "    Uninstalling scikit-learn-0.22.2.post1:\n",
      "      Successfully uninstalled scikit-learn-0.22.2.post1\n",
      "  Attempting uninstall: requests\n",
      "    Found existing installation: requests 2.23.0\n",
      "    Uninstalling requests-2.23.0:\n",
      "      Successfully uninstalled requests-2.23.0\n",
      "  Attempting uninstall: pyarrow\n",
      "    Found existing installation: pyarrow 3.0.0\n",
      "    Uninstalling pyarrow-3.0.0:\n",
      "      Successfully uninstalled pyarrow-3.0.0\n",
      "\u001b[31mERROR: pip's dependency resolver does not currently take into account all the packages that are installed. This behaviour is the source of the following dependency conflicts.\n",
      "google-colab 1.0.0 requires requests~=2.23.0, but you have requests 2.26.0 which is incompatible.\n",
      "datascience 0.10.6 requires folium==0.2.1, but you have folium 0.8.3 which is incompatible.\u001b[0m\n",
      "Successfully installed pyarrow-6.0.0 requests-2.26.0 scikit-learn-1.0.1 threadpoolctl-3.0.0\n",
      "\u001b[33mWARNING: Running pip as the 'root' user can result in broken permissions and conflicting behaviour with the system package manager. It is recommended to use a virtual environment instead: https://pip.pypa.io/warnings/venv\u001b[0m\n"
     ]
    },
    {
     "data": {
      "application/vnd.colab-display-data+json": {
       "pip_warning": {
        "packages": [
         "pyarrow",
         "requests",
         "sklearn"
        ]
       }
      }
     },
     "metadata": {},
     "output_type": "display_data"
    }
   ],
   "source": [
    "# Set up the environment\n",
    "!pip install -U pip pyarrow scikit-learn joblib requests"
   ]
  },
  {
   "cell_type": "markdown",
   "metadata": {
    "id": "O72AoU5GJ5nV"
   },
   "source": [
    "### 1.2.1 Loading the data"
   ]
  },
  {
   "cell_type": "code",
   "execution_count": 20,
   "metadata": {
    "id": "cRaD9NqZBPvK"
   },
   "outputs": [],
   "source": [
    "import pandas as pd\n",
    "import numpy as np\n",
    "from sklearn.preprocessing import MultiLabelBinarizer\n",
    "from scipy import sparse\n",
    "import dask.array as dask_arr\n",
    "import joblib"
   ]
  },
  {
   "cell_type": "code",
   "execution_count": 21,
   "metadata": {
    "id": "OFSzDcO-BfrU"
   },
   "outputs": [],
   "source": [
    "speaker_attributes_path = DATA_PATH / \"Project datasets\" / \"speaker_attributes.parquet\"\n",
    "speaker_attributes_labels = ['id','date_of_birth','nationality','gender','ethnic_group','occupation','party','academic_degree','candidacy','religion']"
   ]
  },
  {
   "cell_type": "markdown",
   "metadata": {
    "id": "ydxwB0jbP01f"
   },
   "source": [
    "Eliminate all the `None`s and replace them with the string \"NONE\", treating `None`s as a category in its own column."
   ]
  },
  {
   "cell_type": "code",
   "execution_count": 22,
   "metadata": {
    "colab": {
     "base_uri": "https://localhost:8080/",
     "height": 289
    },
    "id": "M5FMVy-KbFXm",
    "outputId": "07f2a01d-49ce-437c-bec5-028515bb321d"
   },
   "outputs": [
    {
     "data": {
      "text/html": [
       "<div><strong>Dask DataFrame Structure:</strong></div>\n",
       "<div>\n",
       "<style scoped>\n",
       "    .dataframe tbody tr th:only-of-type {\n",
       "        vertical-align: middle;\n",
       "    }\n",
       "\n",
       "    .dataframe tbody tr th {\n",
       "        vertical-align: top;\n",
       "    }\n",
       "\n",
       "    .dataframe thead th {\n",
       "        text-align: right;\n",
       "    }\n",
       "</style>\n",
       "<table border=\"1\" class=\"dataframe\">\n",
       "  <thead>\n",
       "    <tr style=\"text-align: right;\">\n",
       "      <th></th>\n",
       "      <th>id</th>\n",
       "      <th>date_of_birth</th>\n",
       "      <th>nationality</th>\n",
       "      <th>gender</th>\n",
       "      <th>ethnic_group</th>\n",
       "      <th>occupation</th>\n",
       "      <th>party</th>\n",
       "      <th>academic_degree</th>\n",
       "      <th>candidacy</th>\n",
       "      <th>religion</th>\n",
       "    </tr>\n",
       "    <tr>\n",
       "      <th>npartitions=16</th>\n",
       "      <th></th>\n",
       "      <th></th>\n",
       "      <th></th>\n",
       "      <th></th>\n",
       "      <th></th>\n",
       "      <th></th>\n",
       "      <th></th>\n",
       "      <th></th>\n",
       "      <th></th>\n",
       "      <th></th>\n",
       "    </tr>\n",
       "  </thead>\n",
       "  <tbody>\n",
       "    <tr>\n",
       "      <th></th>\n",
       "      <td>object</td>\n",
       "      <td>object</td>\n",
       "      <td>object</td>\n",
       "      <td>object</td>\n",
       "      <td>object</td>\n",
       "      <td>object</td>\n",
       "      <td>object</td>\n",
       "      <td>object</td>\n",
       "      <td>object</td>\n",
       "      <td>object</td>\n",
       "    </tr>\n",
       "    <tr>\n",
       "      <th></th>\n",
       "      <td>...</td>\n",
       "      <td>...</td>\n",
       "      <td>...</td>\n",
       "      <td>...</td>\n",
       "      <td>...</td>\n",
       "      <td>...</td>\n",
       "      <td>...</td>\n",
       "      <td>...</td>\n",
       "      <td>...</td>\n",
       "      <td>...</td>\n",
       "    </tr>\n",
       "    <tr>\n",
       "      <th>...</th>\n",
       "      <td>...</td>\n",
       "      <td>...</td>\n",
       "      <td>...</td>\n",
       "      <td>...</td>\n",
       "      <td>...</td>\n",
       "      <td>...</td>\n",
       "      <td>...</td>\n",
       "      <td>...</td>\n",
       "      <td>...</td>\n",
       "      <td>...</td>\n",
       "    </tr>\n",
       "    <tr>\n",
       "      <th></th>\n",
       "      <td>...</td>\n",
       "      <td>...</td>\n",
       "      <td>...</td>\n",
       "      <td>...</td>\n",
       "      <td>...</td>\n",
       "      <td>...</td>\n",
       "      <td>...</td>\n",
       "      <td>...</td>\n",
       "      <td>...</td>\n",
       "      <td>...</td>\n",
       "    </tr>\n",
       "    <tr>\n",
       "      <th></th>\n",
       "      <td>...</td>\n",
       "      <td>...</td>\n",
       "      <td>...</td>\n",
       "      <td>...</td>\n",
       "      <td>...</td>\n",
       "      <td>...</td>\n",
       "      <td>...</td>\n",
       "      <td>...</td>\n",
       "      <td>...</td>\n",
       "      <td>...</td>\n",
       "    </tr>\n",
       "  </tbody>\n",
       "</table>\n",
       "</div>\n",
       "<div>Dask Name: assign, 304 tasks</div>"
      ],
      "text/plain": [
       "Dask DataFrame Structure:\n",
       "                    id date_of_birth nationality  gender ethnic_group occupation   party academic_degree candidacy religion\n",
       "npartitions=16                                                                                                             \n",
       "                object        object      object  object       object     object  object          object    object   object\n",
       "                   ...           ...         ...     ...          ...        ...     ...             ...       ...      ...\n",
       "...                ...           ...         ...     ...          ...        ...     ...             ...       ...      ...\n",
       "                   ...           ...         ...     ...          ...        ...     ...             ...       ...      ...\n",
       "                   ...           ...         ...     ...          ...        ...     ...             ...       ...      ...\n",
       "Dask Name: assign, 304 tasks"
      ]
     },
     "execution_count": 22,
     "metadata": {},
     "output_type": "execute_result"
    }
   ],
   "source": [
    "speaker_df = dask_df.read_parquet(speaker_attributes_path, columns=speaker_attributes_labels, engine=\"pyarrow\")\n",
    "speaker_df = speaker_df.persist()\n",
    "speaker_df[speaker_attributes_labels[2:]] = speaker_df[speaker_attributes_labels[2:]].applymap(\n",
    "    lambda i: i if i is not None else [\"NONE\"]\n",
    ")\n",
    "speaker_df"
   ]
  },
  {
   "cell_type": "markdown",
   "metadata": {
    "id": "UOZzN6KKT48o"
   },
   "source": [
    "Extract the years of birth from the dates of birth to help computation of the ages of the entities."
   ]
  },
  {
   "cell_type": "code",
   "execution_count": null,
   "metadata": {
    "id": "dn4To4CTLUIO"
   },
   "outputs": [],
   "source": [
    "def get_year(dob):\n",
    "    if dob is None or len(dob) == 0 or len(dob[0]) < 5:\n",
    "        return None\n",
    "    return int(dob[0][:5])\n",
    "\n",
    "speaker_df[\"year_of_birth\"] = speaker_df[\"date_of_birth\"].map(get_year)"
   ]
  },
  {
   "cell_type": "markdown",
   "metadata": {
    "id": "lEbdwSj6UxCa"
   },
   "source": [
    "Prepend the labels to ease their interpretation after the clustering."
   ]
  },
  {
   "cell_type": "code",
   "execution_count": null,
   "metadata": {
    "id": "JF_jDYPoffWX"
   },
   "outputs": [],
   "source": [
    "for label in speaker_attributes_labels[2:]:\n",
    "    speaker_df[label] = speaker_df[label].map(lambda arr, l=label: [l + \"-\" + i for i in arr])"
   ]
  },
  {
   "cell_type": "markdown",
   "metadata": {
    "id": "NWstH4-0VsV1"
   },
   "source": [
    "Turn the lables into indicator vectors."
   ]
  },
  {
   "cell_type": "code",
   "execution_count": null,
   "metadata": {
    "colab": {
     "base_uri": "https://localhost:8080/",
     "height": 272
    },
    "id": "_xo8aldzix16",
    "outputId": "b1627cca-1b4e-46e9-8d2d-043b86ff5657"
   },
   "outputs": [
    {
     "data": {
      "text/html": [
       "<div><strong>Dask DataFrame Structure:</strong></div>\n",
       "<div>\n",
       "<style scoped>\n",
       "    .dataframe tbody tr th:only-of-type {\n",
       "        vertical-align: middle;\n",
       "    }\n",
       "\n",
       "    .dataframe tbody tr th {\n",
       "        vertical-align: top;\n",
       "    }\n",
       "\n",
       "    .dataframe thead th {\n",
       "        text-align: right;\n",
       "    }\n",
       "</style>\n",
       "<table border=\"1\" class=\"dataframe\">\n",
       "  <thead>\n",
       "    <tr style=\"text-align: right;\">\n",
       "      <th></th>\n",
       "      <th>id</th>\n",
       "      <th>date_of_birth</th>\n",
       "      <th>nationality</th>\n",
       "      <th>gender</th>\n",
       "      <th>ethnic_group</th>\n",
       "      <th>occupation</th>\n",
       "      <th>party</th>\n",
       "      <th>academic_degree</th>\n",
       "      <th>candidacy</th>\n",
       "      <th>religion</th>\n",
       "      <th>year_of_birth</th>\n",
       "      <th>vec</th>\n",
       "    </tr>\n",
       "    <tr>\n",
       "      <th>npartitions=16</th>\n",
       "      <th></th>\n",
       "      <th></th>\n",
       "      <th></th>\n",
       "      <th></th>\n",
       "      <th></th>\n",
       "      <th></th>\n",
       "      <th></th>\n",
       "      <th></th>\n",
       "      <th></th>\n",
       "      <th></th>\n",
       "      <th></th>\n",
       "      <th></th>\n",
       "    </tr>\n",
       "  </thead>\n",
       "  <tbody>\n",
       "    <tr>\n",
       "      <th></th>\n",
       "      <td>object</td>\n",
       "      <td>object</td>\n",
       "      <td>object</td>\n",
       "      <td>object</td>\n",
       "      <td>object</td>\n",
       "      <td>object</td>\n",
       "      <td>object</td>\n",
       "      <td>object</td>\n",
       "      <td>object</td>\n",
       "      <td>object</td>\n",
       "      <td>object</td>\n",
       "      <td>object</td>\n",
       "    </tr>\n",
       "    <tr>\n",
       "      <th></th>\n",
       "      <td>...</td>\n",
       "      <td>...</td>\n",
       "      <td>...</td>\n",
       "      <td>...</td>\n",
       "      <td>...</td>\n",
       "      <td>...</td>\n",
       "      <td>...</td>\n",
       "      <td>...</td>\n",
       "      <td>...</td>\n",
       "      <td>...</td>\n",
       "      <td>...</td>\n",
       "      <td>...</td>\n",
       "    </tr>\n",
       "    <tr>\n",
       "      <th>...</th>\n",
       "      <td>...</td>\n",
       "      <td>...</td>\n",
       "      <td>...</td>\n",
       "      <td>...</td>\n",
       "      <td>...</td>\n",
       "      <td>...</td>\n",
       "      <td>...</td>\n",
       "      <td>...</td>\n",
       "      <td>...</td>\n",
       "      <td>...</td>\n",
       "      <td>...</td>\n",
       "      <td>...</td>\n",
       "    </tr>\n",
       "    <tr>\n",
       "      <th></th>\n",
       "      <td>...</td>\n",
       "      <td>...</td>\n",
       "      <td>...</td>\n",
       "      <td>...</td>\n",
       "      <td>...</td>\n",
       "      <td>...</td>\n",
       "      <td>...</td>\n",
       "      <td>...</td>\n",
       "      <td>...</td>\n",
       "      <td>...</td>\n",
       "      <td>...</td>\n",
       "      <td>...</td>\n",
       "    </tr>\n",
       "    <tr>\n",
       "      <th></th>\n",
       "      <td>...</td>\n",
       "      <td>...</td>\n",
       "      <td>...</td>\n",
       "      <td>...</td>\n",
       "      <td>...</td>\n",
       "      <td>...</td>\n",
       "      <td>...</td>\n",
       "      <td>...</td>\n",
       "      <td>...</td>\n",
       "      <td>...</td>\n",
       "      <td>...</td>\n",
       "      <td>...</td>\n",
       "    </tr>\n",
       "  </tbody>\n",
       "</table>\n",
       "</div>\n",
       "<div>Dask Name: assign, 1216 tasks</div>"
      ],
      "text/plain": [
       "Dask DataFrame Structure:\n",
       "                    id date_of_birth nationality  gender ethnic_group occupation   party academic_degree candidacy religion year_of_birth     vec\n",
       "npartitions=16                                                                                                                                   \n",
       "                object        object      object  object       object     object  object          object    object   object        object  object\n",
       "                   ...           ...         ...     ...          ...        ...     ...             ...       ...      ...           ...     ...\n",
       "...                ...           ...         ...     ...          ...        ...     ...             ...       ...      ...           ...     ...\n",
       "                   ...           ...         ...     ...          ...        ...     ...             ...       ...      ...           ...     ...\n",
       "                   ...           ...         ...     ...          ...        ...     ...             ...       ...      ...           ...     ...\n",
       "Dask Name: assign, 1216 tasks"
      ]
     },
     "execution_count": 12,
     "metadata": {},
     "output_type": "execute_result"
    }
   ],
   "source": [
    "speaker_df[\"vec\"] = speaker_df[speaker_attributes_labels[2]]\n",
    "for label in speaker_attributes_labels[3:]:\n",
    "    speaker_df[\"vec\"] += speaker_df[label]\n",
    "\n",
    "speaker_df"
   ]
  },
  {
   "cell_type": "code",
   "execution_count": null,
   "metadata": {
    "colab": {
     "base_uri": "https://localhost:8080/"
    },
    "id": "CiMNSLqhQC2d",
    "outputId": "8a7951f3-e9eb-4659-9aa3-cbfeb00a6cf3"
   },
   "outputs": [
    {
     "data": {
      "text/plain": [
       "<9055981x37654 sparse matrix of type '<class 'numpy.int64'>'\n",
       "\twith 74822197 stored elements in Compressed Sparse Row format>"
      ]
     },
     "execution_count": 13,
     "metadata": {},
     "output_type": "execute_result"
    }
   ],
   "source": [
    "vectorizer = MultiLabelBinarizer(sparse_output=True)\n",
    "speaker_vecs = vectorizer.fit_transform(speaker_df[\"vec\"])\n",
    "speaker_vecs"
   ]
  },
  {
   "cell_type": "markdown",
   "metadata": {
    "id": "lVNa8Oq9WFBC"
   },
   "source": [
    "Persist the model, the indicator matrix, IDs and the years of birth."
   ]
  },
  {
   "cell_type": "code",
   "execution_count": null,
   "metadata": {
    "id": "66iwqgibQcRq"
   },
   "outputs": [],
   "source": [
    "SPEAKER_ID_YEAR_PATH = DATA_PATH / \"speaker_id_year.parquet\"\n",
    "SPEAKER_VECS_PATH = DATA_PATH / \"speaker_vecs.npz\"\n",
    "SPEAKER_VECTORIZER_PATH = DATA_PATH / \"speaker_vectorizer.joblib\""
   ]
  },
  {
   "cell_type": "code",
   "execution_count": null,
   "metadata": {
    "id": "MwoTblz-QFfL"
   },
   "outputs": [],
   "source": [
    "speaker_df = speaker_df[[\"id\", \"year_of_birth\"]]"
   ]
  },
  {
   "cell_type": "code",
   "execution_count": null,
   "metadata": {
    "colab": {
     "base_uri": "https://localhost:8080/"
    },
    "id": "d9T0aZ_-ae7f",
    "outputId": "b091a537-4d05-4dfe-8b81-259d2c23675d"
   },
   "outputs": [
    {
     "data": {
      "text/plain": [
       "(None,)"
      ]
     },
     "execution_count": 16,
     "metadata": {},
     "output_type": "execute_result"
    }
   ],
   "source": [
    "sparse.save_npz(SPEAKER_VECS_PATH, speaker_vecs)\n",
    "joblib.dump(vectorizer, SPEAKER_VECTORIZER_PATH)\n",
    "speaker_df.to_parquet(SPEAKER_ID_YEAR_PATH, overwrite=True, engine=\"pyarrow\")"
   ]
  },
  {
   "cell_type": "code",
   "execution_count": null,
   "metadata": {
    "colab": {
     "base_uri": "https://localhost:8080/"
    },
    "id": "LDrI4B7we298",
    "outputId": "4d97aafb-f487-4fd3-8d90-bbce0a56550b"
   },
   "outputs": [
    {
     "data": {
      "text/plain": [
       "MultiLabelBinarizer(sparse_output=True)"
      ]
     },
     "execution_count": 75,
     "metadata": {},
     "output_type": "execute_result"
    }
   ],
   "source": [
    "vectorizer = joblib.load(SPEAKER_VECTORIZER_PATH)\n",
    "vectorizer"
   ]
  },
  {
   "cell_type": "code",
   "execution_count": null,
   "metadata": {
    "colab": {
     "base_uri": "https://localhost:8080/"
    },
    "id": "R1uFxyDcczJc",
    "outputId": "0414ddd2-f47d-4a18-be39-1b2552e38b96"
   },
   "outputs": [
    {
     "data": {
      "text/plain": [
       "<9055981x37654 sparse matrix of type '<class 'numpy.int64'>'\n",
       "\twith 74822197 stored elements in Compressed Sparse Row format>"
      ]
     },
     "execution_count": 76,
     "metadata": {},
     "output_type": "execute_result"
    }
   ],
   "source": [
    "speaker_vecs = sparse.load_npz(SPEAKER_VECS_PATH)\n",
    "speaker_vecs"
   ]
  },
  {
   "cell_type": "code",
   "execution_count": null,
   "metadata": {
    "colab": {
     "base_uri": "https://localhost:8080/",
     "height": 455
    },
    "id": "ZAxmScNkO1Zw",
    "outputId": "4697e75d-ab75-4d0a-c6f0-079fb69a94bc"
   },
   "outputs": [
    {
     "data": {
      "text/html": [
       "<div>\n",
       "<style scoped>\n",
       "    .dataframe tbody tr th:only-of-type {\n",
       "        vertical-align: middle;\n",
       "    }\n",
       "\n",
       "    .dataframe tbody tr th {\n",
       "        vertical-align: top;\n",
       "    }\n",
       "\n",
       "    .dataframe thead th {\n",
       "        text-align: right;\n",
       "    }\n",
       "</style>\n",
       "<table border=\"1\" class=\"dataframe\">\n",
       "  <thead>\n",
       "    <tr style=\"text-align: right;\">\n",
       "      <th></th>\n",
       "      <th>year_of_birth</th>\n",
       "      <th>index</th>\n",
       "    </tr>\n",
       "    <tr>\n",
       "      <th>id</th>\n",
       "      <th></th>\n",
       "      <th></th>\n",
       "    </tr>\n",
       "  </thead>\n",
       "  <tbody>\n",
       "    <tr>\n",
       "      <th>Q23</th>\n",
       "      <td>1732.0</td>\n",
       "      <td>0</td>\n",
       "    </tr>\n",
       "    <tr>\n",
       "      <th>Q42</th>\n",
       "      <td>1952.0</td>\n",
       "      <td>1</td>\n",
       "    </tr>\n",
       "    <tr>\n",
       "      <th>Q1868</th>\n",
       "      <td>1868.0</td>\n",
       "      <td>2</td>\n",
       "    </tr>\n",
       "    <tr>\n",
       "      <th>Q207</th>\n",
       "      <td>1946.0</td>\n",
       "      <td>3</td>\n",
       "    </tr>\n",
       "    <tr>\n",
       "      <th>Q297</th>\n",
       "      <td>1599.0</td>\n",
       "      <td>4</td>\n",
       "    </tr>\n",
       "    <tr>\n",
       "      <th>...</th>\n",
       "      <td>...</td>\n",
       "      <td>...</td>\n",
       "    </tr>\n",
       "    <tr>\n",
       "      <th>Q152801</th>\n",
       "      <td>1989.0</td>\n",
       "      <td>655698</td>\n",
       "    </tr>\n",
       "    <tr>\n",
       "      <th>Q152824</th>\n",
       "      <td>1933.0</td>\n",
       "      <td>655699</td>\n",
       "    </tr>\n",
       "    <tr>\n",
       "      <th>Q152843</th>\n",
       "      <td>1933.0</td>\n",
       "      <td>655700</td>\n",
       "    </tr>\n",
       "    <tr>\n",
       "      <th>Q152844</th>\n",
       "      <td>1968.0</td>\n",
       "      <td>655701</td>\n",
       "    </tr>\n",
       "    <tr>\n",
       "      <th>Q152886</th>\n",
       "      <td>1989.0</td>\n",
       "      <td>655702</td>\n",
       "    </tr>\n",
       "  </tbody>\n",
       "</table>\n",
       "<p>9055981 rows × 2 columns</p>\n",
       "</div>"
      ],
      "text/plain": [
       "         year_of_birth   index\n",
       "id                            \n",
       "Q23             1732.0       0\n",
       "Q42             1952.0       1\n",
       "Q1868           1868.0       2\n",
       "Q207            1946.0       3\n",
       "Q297            1599.0       4\n",
       "...                ...     ...\n",
       "Q152801         1989.0  655698\n",
       "Q152824         1933.0  655699\n",
       "Q152843         1933.0  655700\n",
       "Q152844         1968.0  655701\n",
       "Q152886         1989.0  655702\n",
       "\n",
       "[9055981 rows x 2 columns]"
      ]
     },
     "execution_count": 77,
     "metadata": {},
     "output_type": "execute_result"
    }
   ],
   "source": [
    "speaker_df = pd.read_parquet(SPEAKER_ID_YEAR_PATH, engine=\"pyarrow\")\n",
    "speaker_df[\"index\"] = speaker_df.index\n",
    "speaker_df = speaker_df.set_index(\"id\")\n",
    "\n",
    "speaker_df"
   ]
  },
  {
   "cell_type": "markdown",
   "metadata": {
    "id": "f0RUouvCXPsA"
   },
   "source": [
    "### Ages"
   ]
  },
  {
   "cell_type": "code",
   "execution_count": null,
   "metadata": {
    "id": "BXBkH8TMcfHe"
   },
   "outputs": [],
   "source": [
    "from datetime import date\n",
    "import seaborn as sns\n",
    "import scipy"
   ]
  },
  {
   "cell_type": "code",
   "execution_count": null,
   "metadata": {
    "id": "76RNjy5DfD3K"
   },
   "outputs": [],
   "source": [
    "COL_YEAR_OF_BIRTH = \"year_of_birth\""
   ]
  },
  {
   "cell_type": "markdown",
   "metadata": {
    "id": "506FPTq_h3Q4"
   },
   "source": [
    "Distribution of the Ages of the Speakers"
   ]
  },
  {
   "cell_type": "code",
   "execution_count": null,
   "metadata": {
    "colab": {
     "base_uri": "https://localhost:8080/",
     "height": 372
    },
    "id": "ofiDBpr4XAE4",
    "outputId": "15e89091-dcc1-40a4-d1d0-2baf9abb9979"
   },
   "outputs": [
    {
     "data": {
      "image/png": "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\n",
      "text/plain": [
       "<Figure size 360x360 with 1 Axes>"
      ]
     },
     "metadata": {
      "needs_background": "light"
     },
     "output_type": "display_data"
    }
   ],
   "source": [
    "this_year = date.today().year\n",
    "\n",
    "def get_speaker_qids():\n",
    "    with bz2.open(SPEAKER_QIDS, 'rb') as d_file:\n",
    "        speaker_qids = json.loads(d_file.read())\n",
    "        return list(speaker_qids.keys())\n",
    "\n",
    "def plot_speaker_dist(data, title):\n",
    "    speaker_ages = this_year - data.loc[data.index.intersection(get_speaker_qids())][COL_YEAR_OF_BIRTH]\n",
    "    ages_plot = sns.displot(speaker_ages, log_scale=(True, True))\n",
    "    ages_plot.set_axis_labels(\"Age\").fig.suptitle(title)\n",
    "\n",
    "plot_speaker_ages(speaker_df, \"Distribution of the Ages of the Speakers\")"
   ]
  },
  {
   "cell_type": "markdown",
   "metadata": {
    "id": "FtCwaACjl73S"
   },
   "source": [
    "As we mainly study people's attitude in recent years, we filter out all speakers aged above 120."
   ]
  },
  {
   "cell_type": "code",
   "execution_count": null,
   "metadata": {
    "colab": {
     "base_uri": "https://localhost:8080/",
     "height": 372
    },
    "id": "AKYNGu8QiR9I",
    "outputId": "c1199633-23c6-48e2-8bd2-ba648dcbe4c8"
   },
   "outputs": [
    {
     "data": {
      "image/png": "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\n",
      "text/plain": [
       "<Figure size 360x360 with 1 Axes>"
      ]
     },
     "metadata": {
      "needs_background": "light"
     },
     "output_type": "display_data"
    }
   ],
   "source": [
    "SPEAKER_MAX_AGE = 120\n",
    "speaker_modern_df = speaker_df[speaker_df[COL_YEAR_OF_BIRTH] >= (this_year - SPEAKER_MAX_AGE)]\n",
    "plot_speaker_dist(speaker_modern_df, f\"Distribution of the Ages of the Speakers Under {SPEAKER_MAX_AGE}\")"
   ]
  },
  {
   "cell_type": "code",
   "execution_count": null,
   "metadata": {
    "id": "hYxz34iT-kls"
   },
   "outputs": [],
   "source": [
    "import requests"
   ]
  },
  {
   "cell_type": "code",
   "execution_count": null,
   "metadata": {
    "id": "ahHnP4yu58wi"
   },
   "outputs": [],
   "source": [
    "WIKIDATA_NAMESPACE = \"https://www.wikidata.org/wiki/Special:EntityData/{}.json\"\n",
    "\n",
    "def get_nationality_name(qid):\n",
    "    resp = requests.get(WIKIDATA_NAMESPACE.format(qid))\n",
    "    entity = json.loads(resp.text)\n",
    "    try:\n",
    "        name = entity[\"entities\"][qid][\"labels\"][\"en\"][\"value\"]\n",
    "        return name\n",
    "    except:\n",
    "        k = next(iter(entity[\"entities\"][qid][\"labels\"]))\n",
    "        name = entity[\"entities\"][qid][\"labels\"][k][\"value\"]\n",
    "        return name"
   ]
  },
  {
   "cell_type": "code",
   "execution_count": null,
   "metadata": {
    "id": "v2RHSwdzmZ7w"
   },
   "outputs": [],
   "source": [
    "COL_INDEX = \"index\"\n",
    "speaker_cat_count = speaker_vecs[speaker_modern_df[COL_INDEX]].sum(axis=0)\n",
    "speaker_cat_present = vectorizer.inverse_transform(sparse.csr_matrix(speaker_cat_count > 0))[0]"
   ]
  },
  {
   "cell_type": "code",
   "execution_count": null,
   "metadata": {
    "id": "CNFjbmoDGzOg"
   },
   "outputs": [],
   "source": [
    "def plot_speaker_nationality(data, title):\n",
    "    facet = sns.displot(speaker_ages, log_scale=(True, True))\n",
    "    facet.set_axis_labels(\"Nationality\").fig.suptitle(title)"
   ]
  },
  {
   "cell_type": "code",
   "execution_count": null,
   "metadata": {
    "id": "xobPx7_YC2tm"
   },
   "outputs": [],
   "source": [
    "NATIONALITY_PREFIX = \"nationality-\"\n",
    "nationality_labels = [i for i in speaker_cat_present if i.startswith(NATIONALITY_PREFIX)]\n",
    "nationality_indicator = vectorizer.transform([nationality_labels])\n",
    "# nationality_plot_labels = [get_nationality_name(l[len(NATIONALITY_PREFIX):]) for l in nationality_labels[1:]]\n",
    "nationality_num = pd.Series(np.asarray(speaker_cat_count[:, nationality_indicator.nonzero()[1]])[0], index=nationality_labels)"
   ]
  },
  {
   "cell_type": "code",
   "execution_count": null,
   "metadata": {
    "colab": {
     "base_uri": "https://localhost:8080/"
    },
    "id": "3O2auaRtNBQc",
    "outputId": "2e04943a-c4e5-4d0c-eb8d-43f9a40b6d64"
   },
   "outputs": [
    {
     "data": {
      "text/plain": [
       "nationality-Q215         917961\n",
       "nationality-Q171348      354673\n",
       "nationality-Q9129        187186\n",
       "nationality-Q473748      160593\n",
       "nationality-Q79          142605\n",
       "                          ...  \n",
       "nationality-Q1779823          1\n",
       "nationality-Q64576860         1\n",
       "nationality-Q13417403         1\n",
       "nationality-Q623751           1\n",
       "nationality-Q954              1\n",
       "Length: 1226, dtype: int64"
      ]
     },
     "execution_count": 97,
     "metadata": {},
     "output_type": "execute_result"
    }
   ],
   "source": [
    "nationality_num.sort_values(ascending=False)"
   ]
  },
  {
   "cell_type": "markdown",
   "metadata": {
    "id": "-QM8VVO9u8aA"
   },
   "source": [
    "# 2 Data Analysis"
   ]
  },
  {
   "cell_type": "markdown",
   "metadata": {
    "id": "lBoCBgHw2ZLl"
   },
   "source": [
    "## 2.1 Use features in WikiData to do cluster\n",
    "First we combine all the speakers' qids and use these qids "
   ]
  },
  {
   "cell_type": "code",
   "execution_count": null,
   "metadata": {
    "id": "VY51jmDO3VZB"
   },
   "outputs": [],
   "source": [
    "# do cluster here with some algorithms"
   ]
  },
  {
   "cell_type": "markdown",
   "metadata": {
    "id": "2MYNfkeH2kuS"
   },
   "source": [
    "## 2.2 Analysis of general attitudes towards Trump in each cluster\n",
    "\n",
    "### To explore the attitude towards Trump of each people cluster and check whether there is a specific cluster that has an explicit attitude towards him and find out whether these clusters have some defining or distinguishing characteristic."
   ]
  },
  {
   "cell_type": "code",
   "execution_count": null,
   "metadata": {
    "id": "sC0A_KwHzO2I"
   },
   "outputs": [],
   "source": [
    "# extract each cluster's attitudes towards Trump"
   ]
  },
  {
   "cell_type": "markdown",
   "metadata": {
    "id": "vwzOTzhr3fTh"
   },
   "source": [
    "## 2.3 Analysis of attitudes changes over time in each cluster\n",
    "\n",
    "### To explore the changes of attitude towards Trump in each cluster as time went by. we could pick up some specific time such as,\n",
    "  - before and after Trump won his presidency (2016)\n",
    "  - the covid outbreak (March 2020)\n",
    "  - 2021 U.S. elections\n",
    "\n",
    "    ···\n"
   ]
  },
  {
   "cell_type": "code",
   "execution_count": null,
   "metadata": {
    "id": "r3phzb8m3eAr"
   },
   "outputs": [],
   "source": [
    "# extract each cluster's attitudes towards Trump in different time period"
   ]
  },
  {
   "cell_type": "code",
   "execution_count": null,
   "metadata": {
    "id": "5_opa746MKpo"
   },
   "outputs": [],
   "source": []
  }
 ],
 "metadata": {
  "colab": {
   "collapsed_sections": [],
   "name": "milestone2.ipynb",
   "provenance": [],
   "toc_visible": true
  },
  "kernelspec": {
   "display_name": "Python 3",
   "language": "python",
   "name": "python3"
  },
  "language_info": {
   "codemirror_mode": {
    "name": "ipython",
    "version": 3
   },
   "file_extension": ".py",
   "mimetype": "text/x-python",
   "name": "python",
   "nbconvert_exporter": "python",
   "pygments_lexer": "ipython3",
   "version": "3.8.8"
  }
 },
 "nbformat": 4,
 "nbformat_minor": 1
}
